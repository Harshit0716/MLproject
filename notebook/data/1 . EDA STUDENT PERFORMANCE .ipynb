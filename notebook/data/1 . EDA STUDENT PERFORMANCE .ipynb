{
 "cells": [
  {
   "attachments": {},
   "cell_type": "markdown",
   "id": "1e233234",
   "metadata": {},
   "source": [
    "## Student Performance Indicator\n"
   ]
  },
  {
   "cell_type": "markdown",
   "id": "62e05101",
   "metadata": {},
   "source": [
    "#### Life cycle of Machine learning Project\n",
    "\n",
    "- Understanding the Problem Statement\n",
    "- Data Collection\n",
    "- Data Checks to perform\n",
    "- Exploratory data analysis\n",
    "- Data Pre-Processing\n",
    "- Model Training\n",
    "- Choose best model"
   ]
  },
  {
   "cell_type": "markdown",
   "id": "dfcea981",
   "metadata": {},
   "source": [
    "### 1) Problem statement\n",
    "- This project understands how the student's performance (test scores) is affected by other variables such as Gender, Ethnicity, Parental level of education, Lunch and Test preparation course.\n",
    "\n",
    "\n",
    "### 2) Data Collection\n",
    "- Dataset Source - https://www.kaggle.com/datasets/spscientist/students-performance-in-exams?datasetId=74977\n",
    "- The data consists of 8 column and 1000 rows."
   ]
  },
  {
   "cell_type": "markdown",
   "id": "15b1355f",
   "metadata": {},
   "source": [
    "### 2.1 Import Data and Required Packages\n",
    "####  Importing Pandas, Numpy, Matplotlib, Seaborn and Warings Library."
   ]
  },
  {
   "cell_type": "code",
   "execution_count": null,
   "id": "7eaae1d7",
   "metadata": {},
   "outputs": [
    {
     "name": "stdout",
     "output_type": "stream",
     "text": [
      "Requirement already satisfied: numpy in c:\\users\\tiwar\\mlprojects\\venv\\lib\\site-packages (1.24.4)\n",
      "Collecting pandas\n",
      "  Downloading pandas-2.0.3-cp38-cp38-win_amd64.whl.metadata (18 kB)\n",
      "Requirement already satisfied: python-dateutil>=2.8.2 in c:\\users\\tiwar\\mlprojects\\venv\\lib\\site-packages (from pandas) (2.9.0.post0)\n",
      "Collecting pytz>=2020.1 (from pandas)\n",
      "  Downloading pytz-2025.1-py2.py3-none-any.whl.metadata (22 kB)\n",
      "Collecting tzdata>=2022.1 (from pandas)\n",
      "  Downloading tzdata-2025.1-py2.py3-none-any.whl.metadata (1.4 kB)\n",
      "Requirement already satisfied: numpy>=1.20.3 in c:\\users\\tiwar\\mlprojects\\venv\\lib\\site-packages (from pandas) (1.24.4)\n",
      "Requirement already satisfied: six>=1.5 in c:\\users\\tiwar\\mlprojects\\venv\\lib\\site-packages (from python-dateutil>=2.8.2->pandas) (1.16.0)\n",
      "Downloading pandas-2.0.3-cp38-cp38-win_amd64.whl (10.8 MB)\n",
      "   ---------------------------------------- 0.0/10.8 MB ? eta -:--:--\n",
      "   ---------------------------------------- 0.0/10.8 MB ? eta -:--:--\n",
      "   ---------------------------------------- 0.0/10.8 MB ? eta -:--:--\n",
      "    --------------------------------------- 0.3/10.8 MB ? eta -:--:--\n",
      "    --------------------------------------- 0.3/10.8 MB ? eta -:--:--\n",
      "   - -------------------------------------- 0.5/10.8 MB 699.0 kB/s eta 0:00:15\n",
      "   -- ------------------------------------- 0.8/10.8 MB 780.2 kB/s eta 0:00:13\n",
      "   --- ------------------------------------ 1.0/10.8 MB 882.6 kB/s eta 0:00:12\n",
      "   ---- ----------------------------------- 1.3/10.8 MB 1.0 MB/s eta 0:00:10\n",
      "   ------- -------------------------------- 2.1/10.8 MB 1.4 MB/s eta 0:00:07\n",
      "   --------- ------------------------------ 2.6/10.8 MB 1.5 MB/s eta 0:00:06\n",
      "   ------------ --------------------------- 3.4/10.8 MB 1.8 MB/s eta 0:00:05\n",
      "   --------------- ------------------------ 4.2/10.8 MB 2.0 MB/s eta 0:00:04\n",
      "   ------------------ --------------------- 5.0/10.8 MB 2.2 MB/s eta 0:00:03\n",
      "   ---------------------- ----------------- 6.0/10.8 MB 2.4 MB/s eta 0:00:02\n",
      "   ------------------------ --------------- 6.6/10.8 MB 2.5 MB/s eta 0:00:02\n",
      "   ---------------------------- ----------- 7.6/10.8 MB 2.6 MB/s eta 0:00:02\n",
      "   --------------------------------- ------ 8.9/10.8 MB 2.9 MB/s eta 0:00:01\n",
      "   ----------------------------------- ---- 9.7/10.8 MB 3.0 MB/s eta 0:00:01\n",
      "   -------------------------------------- - 10.5/10.8 MB 3.0 MB/s eta 0:00:01\n",
      "   ---------------------------------------- 10.8/10.8 MB 2.9 MB/s eta 0:00:00\n",
      "Downloading pytz-2025.1-py2.py3-none-any.whl (507 kB)\n",
      "Downloading tzdata-2025.1-py2.py3-none-any.whl (346 kB)\n",
      "Installing collected packages: pytz, tzdata, pandas\n",
      "Successfully installed pandas-2.0.3 pytz-2025.1 tzdata-2025.1\n",
      "Collecting seaborn\n",
      "  Using cached seaborn-0.13.2-py3-none-any.whl.metadata (5.4 kB)\n",
      "Requirement already satisfied: numpy!=1.24.0,>=1.20 in c:\\users\\tiwar\\mlprojects\\venv\\lib\\site-packages (from seaborn) (1.24.4)\n",
      "Requirement already satisfied: pandas>=1.2 in c:\\users\\tiwar\\mlprojects\\venv\\lib\\site-packages (from seaborn) (2.0.3)\n",
      "Collecting matplotlib!=3.6.1,>=3.4 (from seaborn)\n",
      "  Downloading matplotlib-3.7.5-cp38-cp38-win_amd64.whl.metadata (5.8 kB)\n",
      "Collecting contourpy>=1.0.1 (from matplotlib!=3.6.1,>=3.4->seaborn)\n",
      "  Downloading contourpy-1.1.1-cp38-cp38-win_amd64.whl.metadata (5.9 kB)\n",
      "Collecting cycler>=0.10 (from matplotlib!=3.6.1,>=3.4->seaborn)\n",
      "  Downloading cycler-0.12.1-py3-none-any.whl.metadata (3.8 kB)\n",
      "Collecting fonttools>=4.22.0 (from matplotlib!=3.6.1,>=3.4->seaborn)\n",
      "  Downloading fonttools-4.56.0-cp38-cp38-win_amd64.whl.metadata (103 kB)\n",
      "Collecting kiwisolver>=1.0.1 (from matplotlib!=3.6.1,>=3.4->seaborn)\n",
      "  Downloading kiwisolver-1.4.7-cp38-cp38-win_amd64.whl.metadata (6.4 kB)\n",
      "Requirement already satisfied: packaging>=20.0 in c:\\users\\tiwar\\mlprojects\\venv\\lib\\site-packages (from matplotlib!=3.6.1,>=3.4->seaborn) (24.1)\n",
      "Collecting pillow>=6.2.0 (from matplotlib!=3.6.1,>=3.4->seaborn)\n",
      "  Downloading pillow-10.4.0-cp38-cp38-win_amd64.whl.metadata (9.3 kB)\n",
      "Collecting pyparsing>=2.3.1 (from matplotlib!=3.6.1,>=3.4->seaborn)\n",
      "  Downloading pyparsing-3.1.4-py3-none-any.whl.metadata (5.1 kB)\n",
      "Requirement already satisfied: python-dateutil>=2.7 in c:\\users\\tiwar\\mlprojects\\venv\\lib\\site-packages (from matplotlib!=3.6.1,>=3.4->seaborn) (2.9.0.post0)\n",
      "Collecting importlib-resources>=3.2.0 (from matplotlib!=3.6.1,>=3.4->seaborn)\n",
      "  Downloading importlib_resources-6.4.5-py3-none-any.whl.metadata (4.0 kB)\n",
      "Requirement already satisfied: pytz>=2020.1 in c:\\users\\tiwar\\mlprojects\\venv\\lib\\site-packages (from pandas>=1.2->seaborn) (2025.1)\n",
      "Requirement already satisfied: tzdata>=2022.1 in c:\\users\\tiwar\\mlprojects\\venv\\lib\\site-packages (from pandas>=1.2->seaborn) (2025.1)\n",
      "Requirement already satisfied: zipp>=3.1.0 in c:\\users\\tiwar\\mlprojects\\venv\\lib\\site-packages (from importlib-resources>=3.2.0->matplotlib!=3.6.1,>=3.4->seaborn) (3.20.2)\n",
      "Requirement already satisfied: six>=1.5 in c:\\users\\tiwar\\mlprojects\\venv\\lib\\site-packages (from python-dateutil>=2.7->matplotlib!=3.6.1,>=3.4->seaborn) (1.16.0)\n",
      "Using cached seaborn-0.13.2-py3-none-any.whl (294 kB)\n",
      "Downloading matplotlib-3.7.5-cp38-cp38-win_amd64.whl (7.5 MB)\n",
      "   ---------------------------------------- 0.0/7.5 MB ? eta -:--:--\n",
      "   - -------------------------------------- 0.3/7.5 MB ? eta -:--:--\n",
      "   -- ------------------------------------- 0.5/7.5 MB 1.9 MB/s eta 0:00:04\n",
      "   ----- ---------------------------------- 1.0/7.5 MB 1.9 MB/s eta 0:00:04\n",
      "   -------- ------------------------------- 1.6/7.5 MB 2.0 MB/s eta 0:00:04\n",
      "   --------- ------------------------------ 1.8/7.5 MB 2.0 MB/s eta 0:00:03\n",
      "   ------------- -------------------------- 2.6/7.5 MB 2.1 MB/s eta 0:00:03\n",
      "   ---------------- ----------------------- 3.1/7.5 MB 2.2 MB/s eta 0:00:02\n",
      "   -------------------- ------------------- 3.9/7.5 MB 2.4 MB/s eta 0:00:02\n",
      "   ------------------------- -------------- 4.7/7.5 MB 2.5 MB/s eta 0:00:02\n",
      "   ------------------------------ --------- 5.8/7.5 MB 2.7 MB/s eta 0:00:01\n",
      "   ------------------------------------ --- 6.8/7.5 MB 3.0 MB/s eta 0:00:01\n",
      "   ---------------------------------------- 7.5/7.5 MB 3.0 MB/s eta 0:00:00\n",
      "Downloading contourpy-1.1.1-cp38-cp38-win_amd64.whl (477 kB)\n",
      "Downloading cycler-0.12.1-py3-none-any.whl (8.3 kB)\n",
      "Downloading fonttools-4.56.0-cp38-cp38-win_amd64.whl (1.5 MB)\n",
      "   ---------------------------------------- 0.0/1.5 MB ? eta -:--:--\n",
      "   -------------------- ------------------- 0.8/1.5 MB 4.8 MB/s eta 0:00:01\n",
      "   ---------------------------------------- 1.5/1.5 MB 4.3 MB/s eta 0:00:00\n",
      "Downloading importlib_resources-6.4.5-py3-none-any.whl (36 kB)\n",
      "Downloading kiwisolver-1.4.7-cp38-cp38-win_amd64.whl (55 kB)\n",
      "Downloading pillow-10.4.0-cp38-cp38-win_amd64.whl (2.6 MB)\n",
      "   ---------------------------------------- 0.0/2.6 MB ? eta -:--:--\n",
      "   ------------ --------------------------- 0.8/2.6 MB 4.2 MB/s eta 0:00:01\n",
      "   ---------------------------- ----------- 1.8/2.6 MB 4.4 MB/s eta 0:00:01\n",
      "   ---------------------------------------- 2.6/2.6 MB 4.2 MB/s eta 0:00:00\n",
      "Downloading pyparsing-3.1.4-py3-none-any.whl (104 kB)\n",
      "Installing collected packages: pyparsing, pillow, kiwisolver, importlib-resources, fonttools, cycler, contourpy, matplotlib, seaborn\n",
      "Successfully installed contourpy-1.1.1 cycler-0.12.1 fonttools-4.56.0 importlib-resources-6.4.5 kiwisolver-1.4.7 matplotlib-3.7.5 pillow-10.4.0 pyparsing-3.1.4 seaborn-0.13.2\n",
      "Requirement already satisfied: matplotlib in c:\\users\\tiwar\\mlprojects\\venv\\lib\\site-packages (3.7.5)\n",
      "Requirement already satisfied: contourpy>=1.0.1 in c:\\users\\tiwar\\mlprojects\\venv\\lib\\site-packages (from matplotlib) (1.1.1)\n",
      "Requirement already satisfied: cycler>=0.10 in c:\\users\\tiwar\\mlprojects\\venv\\lib\\site-packages (from matplotlib) (0.12.1)\n",
      "Requirement already satisfied: fonttools>=4.22.0 in c:\\users\\tiwar\\mlprojects\\venv\\lib\\site-packages (from matplotlib) (4.56.0)\n",
      "Requirement already satisfied: kiwisolver>=1.0.1 in c:\\users\\tiwar\\mlprojects\\venv\\lib\\site-packages (from matplotlib) (1.4.7)\n",
      "Requirement already satisfied: numpy<2,>=1.20 in c:\\users\\tiwar\\mlprojects\\venv\\lib\\site-packages (from matplotlib) (1.24.4)\n",
      "Requirement already satisfied: packaging>=20.0 in c:\\users\\tiwar\\mlprojects\\venv\\lib\\site-packages (from matplotlib) (24.1)\n",
      "Requirement already satisfied: pillow>=6.2.0 in c:\\users\\tiwar\\mlprojects\\venv\\lib\\site-packages (from matplotlib) (10.4.0)\n",
      "Requirement already satisfied: pyparsing>=2.3.1 in c:\\users\\tiwar\\mlprojects\\venv\\lib\\site-packages (from matplotlib) (3.1.4)\n",
      "Requirement already satisfied: python-dateutil>=2.7 in c:\\users\\tiwar\\mlprojects\\venv\\lib\\site-packages (from matplotlib) (2.9.0.post0)\n",
      "Requirement already satisfied: importlib-resources>=3.2.0 in c:\\users\\tiwar\\mlprojects\\venv\\lib\\site-packages (from matplotlib) (6.4.5)\n",
      "Requirement already satisfied: zipp>=3.1.0 in c:\\users\\tiwar\\mlprojects\\venv\\lib\\site-packages (from importlib-resources>=3.2.0->matplotlib) (3.20.2)\n",
      "Requirement already satisfied: six>=1.5 in c:\\users\\tiwar\\mlprojects\\venv\\lib\\site-packages (from python-dateutil>=2.7->matplotlib) (1.16.0)\n"
     ]
    },
    {
     "name": "stderr",
     "output_type": "stream",
     "text": [
      "ERROR: Could not find a version that satisfies the requirement warnings (from versions: none)\n",
      "ERROR: No matching distribution found for warnings\n",
      "  error: subprocess-exited-with-error\n",
      "  \n",
      "  × python setup.py egg_info did not run successfully.\n",
      "  │ exit code: 1\n",
      "  ╰─> [15 lines of output]\n",
      "      The 'sklearn' PyPI package is deprecated, use 'scikit-learn'\n",
      "      rather than 'sklearn' for pip commands.\n",
      "      \n",
      "      Here is how to fix this error in the main use cases:\n",
      "      - use 'pip install scikit-learn' rather than 'pip install sklearn'\n",
      "      - replace 'sklearn' by 'scikit-learn' in your pip requirements files\n",
      "        (requirements.txt, setup.py, setup.cfg, Pipfile, etc ...)\n",
      "      - if the 'sklearn' package is used by one of your dependencies,\n",
      "        it would be great if you take some time to track which package uses\n",
      "        'sklearn' instead of 'scikit-learn' and report it to their issue tracker\n",
      "      - as a last resort, set the environment variable\n",
      "        SKLEARN_ALLOW_DEPRECATED_SKLEARN_PACKAGE_INSTALL=True to avoid this error\n",
      "      \n",
      "      More information is available at\n",
      "      https://github.com/scikit-learn/sklearn-pypi-package\n",
      "      [end of output]\n",
      "  \n",
      "  note: This error originates from a subprocess, and is likely not a problem with pip.\n",
      "error: metadata-generation-failed\n",
      "\n",
      "× Encountered error while generating package metadata.\n",
      "╰─> See above for output.\n",
      "\n",
      "note: This is an issue with the package mentioned above, not pip.\n",
      "hint: See above for details.\n"
     ]
    },
    {
     "name": "stdout",
     "output_type": "stream",
     "text": [
      "Collecting sklearn\n",
      "  Using cached sklearn-0.0.post12.tar.gz (2.6 kB)\n",
      "  Preparing metadata (setup.py): started\n",
      "  Preparing metadata (setup.py): finished with status 'error'\n",
      "Collecting scipy\n",
      "  Downloading scipy-1.10.1-cp38-cp38-win_amd64.whl.metadata (58 kB)\n",
      "Requirement already satisfied: numpy<1.27.0,>=1.19.5 in c:\\users\\tiwar\\mlprojects\\venv\\lib\\site-packages (from scipy) (1.24.4)\n",
      "Downloading scipy-1.10.1-cp38-cp38-win_amd64.whl (42.2 MB)\n",
      "   ---------------------------------------- 0.0/42.2 MB ? eta -:--:--\n",
      "   ---------------------------------------- 0.0/42.2 MB ? eta -:--:--\n",
      "   ---------------------------------------- 0.3/42.2 MB ? eta -:--:--\n",
      "   ---------------------------------------- 0.3/42.2 MB ? eta -:--:--\n",
      "   ---------------------------------------- 0.3/42.2 MB ? eta -:--:--\n",
      "   ---------------------------------------- 0.3/42.2 MB ? eta -:--:--\n",
      "   ---------------------------------------- 0.5/42.2 MB 372.9 kB/s eta 0:01:52\n",
      "    --------------------------------------- 0.8/42.2 MB 559.5 kB/s eta 0:01:15\n",
      "    --------------------------------------- 0.8/42.2 MB 559.5 kB/s eta 0:01:15\n",
      "    --------------------------------------- 1.0/42.2 MB 585.1 kB/s eta 0:01:11\n",
      "   - -------------------------------------- 1.3/42.2 MB 615.7 kB/s eta 0:01:07\n",
      "   - -------------------------------------- 1.3/42.2 MB 615.7 kB/s eta 0:01:07\n",
      "   - -------------------------------------- 1.6/42.2 MB 650.2 kB/s eta 0:01:03\n",
      "   - -------------------------------------- 1.8/42.2 MB 684.7 kB/s eta 0:00:59\n",
      "   - -------------------------------------- 1.8/42.2 MB 684.7 kB/s eta 0:00:59\n",
      "   - -------------------------------------- 2.1/42.2 MB 716.2 kB/s eta 0:00:57\n",
      "   -- ------------------------------------- 2.4/42.2 MB 749.8 kB/s eta 0:00:54\n",
      "   -- ------------------------------------- 2.6/42.2 MB 782.3 kB/s eta 0:00:51\n",
      "   -- ------------------------------------- 2.9/42.2 MB 814.4 kB/s eta 0:00:49\n",
      "   -- ------------------------------------- 3.1/42.2 MB 842.7 kB/s eta 0:00:47\n",
      "   --- ------------------------------------ 3.7/42.2 MB 897.5 kB/s eta 0:00:43\n",
      "   --- ------------------------------------ 3.9/42.2 MB 924.7 kB/s eta 0:00:42\n",
      "   --- ------------------------------------ 4.2/42.2 MB 949.6 kB/s eta 0:00:41\n",
      "   ---- ----------------------------------- 4.7/42.2 MB 1.0 MB/s eta 0:00:38\n",
      "   ---- ----------------------------------- 5.0/42.2 MB 1.0 MB/s eta 0:00:37\n",
      "   ----- ---------------------------------- 5.5/42.2 MB 1.1 MB/s eta 0:00:35\n",
      "   ----- ---------------------------------- 5.8/42.2 MB 1.1 MB/s eta 0:00:34\n",
      "   ----- ---------------------------------- 6.3/42.2 MB 1.1 MB/s eta 0:00:32\n",
      "   ------ --------------------------------- 6.8/42.2 MB 1.2 MB/s eta 0:00:30\n",
      "   ------ --------------------------------- 7.3/42.2 MB 1.2 MB/s eta 0:00:28\n",
      "   ------- -------------------------------- 8.1/42.2 MB 1.3 MB/s eta 0:00:26\n",
      "   -------- ------------------------------- 8.7/42.2 MB 1.4 MB/s eta 0:00:25\n",
      "   -------- ------------------------------- 9.4/42.2 MB 1.4 MB/s eta 0:00:23\n",
      "   --------- ------------------------------ 10.0/42.2 MB 1.5 MB/s eta 0:00:22\n",
      "   ---------- ----------------------------- 10.7/42.2 MB 1.5 MB/s eta 0:00:21\n",
      "   ---------- ----------------------------- 11.5/42.2 MB 1.6 MB/s eta 0:00:20\n",
      "   ----------- ---------------------------- 12.3/42.2 MB 1.7 MB/s eta 0:00:18\n",
      "   ------------ --------------------------- 12.8/42.2 MB 1.7 MB/s eta 0:00:18\n",
      "   ------------ --------------------------- 13.4/42.2 MB 1.7 MB/s eta 0:00:17\n",
      "   ------------- -------------------------- 14.2/42.2 MB 1.8 MB/s eta 0:00:16\n",
      "   -------------- ------------------------- 14.9/42.2 MB 1.8 MB/s eta 0:00:15\n",
      "   --------------- ------------------------ 16.0/42.2 MB 1.9 MB/s eta 0:00:14\n",
      "   --------------- ------------------------ 16.8/42.2 MB 1.9 MB/s eta 0:00:14\n",
      "   ---------------- ----------------------- 17.3/42.2 MB 2.0 MB/s eta 0:00:13\n",
      "   ----------------- ---------------------- 18.1/42.2 MB 2.0 MB/s eta 0:00:13\n",
      "   ----------------- ---------------------- 18.9/42.2 MB 2.0 MB/s eta 0:00:12\n",
      "   ------------------ --------------------- 19.7/42.2 MB 2.1 MB/s eta 0:00:11\n",
      "   ------------------- -------------------- 20.7/42.2 MB 2.1 MB/s eta 0:00:11\n",
      "   -------------------- ------------------- 21.2/42.2 MB 2.2 MB/s eta 0:00:10\n",
      "   -------------------- ------------------- 21.2/42.2 MB 2.2 MB/s eta 0:00:10\n",
      "   -------------------- ------------------- 22.0/42.2 MB 2.1 MB/s eta 0:00:10\n",
      "   --------------------- ------------------ 22.8/42.2 MB 2.2 MB/s eta 0:00:09\n",
      "   ---------------------- ----------------- 23.9/42.2 MB 2.2 MB/s eta 0:00:09\n",
      "   ----------------------- ---------------- 24.6/42.2 MB 2.3 MB/s eta 0:00:08\n",
      "   ------------------------ --------------- 25.4/42.2 MB 2.3 MB/s eta 0:00:08\n",
      "   ------------------------- -------------- 26.5/42.2 MB 2.3 MB/s eta 0:00:07\n",
      "   ------------------------- -------------- 27.3/42.2 MB 2.4 MB/s eta 0:00:07\n",
      "   -------------------------- ------------- 28.0/42.2 MB 2.4 MB/s eta 0:00:06\n",
      "   --------------------------- ------------ 28.8/42.2 MB 2.4 MB/s eta 0:00:06\n",
      "   ---------------------------- ----------- 29.6/42.2 MB 2.4 MB/s eta 0:00:06\n",
      "   ---------------------------- ----------- 30.4/42.2 MB 2.4 MB/s eta 0:00:05\n",
      "   ----------------------------- ---------- 31.5/42.2 MB 2.5 MB/s eta 0:00:05\n",
      "   ------------------------------ --------- 32.0/42.2 MB 2.5 MB/s eta 0:00:05\n",
      "   ------------------------------- -------- 32.8/42.2 MB 2.5 MB/s eta 0:00:04\n",
      "   -------------------------------- ------- 33.8/42.2 MB 2.5 MB/s eta 0:00:04\n",
      "   -------------------------------- ------- 34.6/42.2 MB 2.6 MB/s eta 0:00:03\n",
      "   --------------------------------- ------ 35.4/42.2 MB 2.6 MB/s eta 0:00:03\n",
      "   ---------------------------------- ----- 36.2/42.2 MB 2.6 MB/s eta 0:00:03\n",
      "   ----------------------------------- ---- 37.0/42.2 MB 2.6 MB/s eta 0:00:03\n",
      "   ----------------------------------- ---- 37.7/42.2 MB 2.6 MB/s eta 0:00:02\n",
      "   ------------------------------------ --- 38.5/42.2 MB 2.7 MB/s eta 0:00:02\n",
      "   ------------------------------------- -- 39.3/42.2 MB 2.7 MB/s eta 0:00:02\n",
      "   -------------------------------------- - 40.1/42.2 MB 2.7 MB/s eta 0:00:01\n",
      "   -------------------------------------- - 41.2/42.2 MB 2.7 MB/s eta 0:00:01\n",
      "   ---------------------------------------  41.9/42.2 MB 2.7 MB/s eta 0:00:01\n",
      "   ---------------------------------------  42.2/42.2 MB 2.7 MB/s eta 0:00:01\n",
      "   ---------------------------------------- 42.2/42.2 MB 2.7 MB/s eta 0:00:00\n",
      "Installing collected packages: scipy\n",
      "Successfully installed scipy-1.10.1\n",
      "Collecting statsmodels\n",
      "  Downloading statsmodels-0.14.1-cp38-cp38-win_amd64.whl.metadata (9.8 kB)\n",
      "Requirement already satisfied: numpy<2,>=1.18 in c:\\users\\tiwar\\mlprojects\\venv\\lib\\site-packages (from statsmodels) (1.24.4)\n",
      "Requirement already satisfied: scipy!=1.9.2,>=1.4 in c:\\users\\tiwar\\mlprojects\\venv\\lib\\site-packages (from statsmodels) (1.10.1)\n",
      "Requirement already satisfied: pandas!=2.1.0,>=1.0 in c:\\users\\tiwar\\mlprojects\\venv\\lib\\site-packages (from statsmodels) (2.0.3)\n",
      "Collecting patsy>=0.5.4 (from statsmodels)\n",
      "  Using cached patsy-1.0.1-py2.py3-none-any.whl.metadata (3.3 kB)\n",
      "Requirement already satisfied: packaging>=21.3 in c:\\users\\tiwar\\mlprojects\\venv\\lib\\site-packages (from statsmodels) (24.1)\n",
      "Requirement already satisfied: python-dateutil>=2.8.2 in c:\\users\\tiwar\\mlprojects\\venv\\lib\\site-packages (from pandas!=2.1.0,>=1.0->statsmodels) (2.9.0.post0)\n",
      "Requirement already satisfied: pytz>=2020.1 in c:\\users\\tiwar\\mlprojects\\venv\\lib\\site-packages (from pandas!=2.1.0,>=1.0->statsmodels) (2025.1)\n",
      "Requirement already satisfied: tzdata>=2022.1 in c:\\users\\tiwar\\mlprojects\\venv\\lib\\site-packages (from pandas!=2.1.0,>=1.0->statsmodels) (2025.1)\n",
      "Requirement already satisfied: six>=1.5 in c:\\users\\tiwar\\mlprojects\\venv\\lib\\site-packages (from python-dateutil>=2.8.2->pandas!=2.1.0,>=1.0->statsmodels) (1.16.0)\n",
      "Downloading statsmodels-0.14.1-cp38-cp38-win_amd64.whl (10.0 MB)\n",
      "   ---------------------------------------- 0.0/10.0 MB ? eta -:--:--\n",
      "   ---------------------------------------- 0.0/10.0 MB ? eta -:--:--\n",
      "   ---------------------------------------- 0.0/10.0 MB ? eta -:--:--\n",
      "   - -------------------------------------- 0.3/10.0 MB ? eta -:--:--\n",
      "   -- ------------------------------------- 0.5/10.0 MB 985.5 kB/s eta 0:00:10\n",
      "   -- ------------------------------------- 0.5/10.0 MB 985.5 kB/s eta 0:00:10\n",
      "   --- ------------------------------------ 0.8/10.0 MB 763.2 kB/s eta 0:00:13\n",
      "   --- ------------------------------------ 0.8/10.0 MB 763.2 kB/s eta 0:00:13\n",
      "   ---- ----------------------------------- 1.0/10.0 MB 680.3 kB/s eta 0:00:14\n",
      "   ----- ---------------------------------- 1.3/10.0 MB 808.5 kB/s eta 0:00:11\n",
      "   ------- -------------------------------- 1.8/10.0 MB 1.0 MB/s eta 0:00:08\n",
      "   --------- ------------------------------ 2.4/10.0 MB 1.2 MB/s eta 0:00:07\n",
      "   ----------- ---------------------------- 2.9/10.0 MB 1.4 MB/s eta 0:00:06\n",
      "   -------------- ------------------------- 3.7/10.0 MB 1.6 MB/s eta 0:00:05\n",
      "   ----------------- ---------------------- 4.5/10.0 MB 1.7 MB/s eta 0:00:04\n",
      "   -------------------- ------------------- 5.2/10.0 MB 1.9 MB/s eta 0:00:03\n",
      "   ------------------------ --------------- 6.0/10.0 MB 2.0 MB/s eta 0:00:02\n",
      "   -------------------------- ------------- 6.6/10.0 MB 2.1 MB/s eta 0:00:02\n",
      "   ----------------------------- ---------- 7.3/10.0 MB 2.2 MB/s eta 0:00:02\n",
      "   -------------------------------- ------- 8.1/10.0 MB 2.3 MB/s eta 0:00:01\n",
      "   ------------------------------------ --- 9.2/10.0 MB 2.4 MB/s eta 0:00:01\n",
      "   ---------------------------------------  10.0/10.0 MB 2.5 MB/s eta 0:00:01\n",
      "   ---------------------------------------- 10.0/10.0 MB 2.5 MB/s eta 0:00:00\n",
      "Using cached patsy-1.0.1-py2.py3-none-any.whl (232 kB)\n",
      "Installing collected packages: patsy, statsmodels\n",
      "Successfully installed patsy-1.0.1 statsmodels-0.14.1\n",
      "Collecting xgboost\n",
      "  Downloading xgboost-2.1.4-py3-none-win_amd64.whl.metadata (2.1 kB)\n",
      "Requirement already satisfied: numpy in c:\\users\\tiwar\\mlprojects\\venv\\lib\\site-packages (from xgboost) (1.24.4)\n",
      "Requirement already satisfied: scipy in c:\\users\\tiwar\\mlprojects\\venv\\lib\\site-packages (from xgboost) (1.10.1)\n",
      "Downloading xgboost-2.1.4-py3-none-win_amd64.whl (124.9 MB)\n",
      "   ---------------------------------------- 0.0/124.9 MB ? eta -:--:--\n",
      "   ---------------------------------------- 0.0/124.9 MB ? eta -:--:--\n",
      "   ---------------------------------------- 0.0/124.9 MB ? eta -:--:--\n",
      "   ---------------------------------------- 0.3/124.9 MB ? eta -:--:--\n",
      "   ---------------------------------------- 0.3/124.9 MB ? eta -:--:--\n",
      "   ---------------------------------------- 0.5/124.9 MB 644.1 kB/s eta 0:03:14\n",
      "   ---------------------------------------- 0.8/124.9 MB 882.6 kB/s eta 0:02:21\n",
      "   ---------------------------------------- 0.8/124.9 MB 882.6 kB/s eta 0:02:21\n",
      "   ---------------------------------------- 1.0/124.9 MB 838.4 kB/s eta 0:02:28\n",
      "    --------------------------------------- 1.6/124.9 MB 1.1 MB/s eta 0:01:57\n",
      "    --------------------------------------- 2.1/124.9 MB 1.2 MB/s eta 0:01:39\n",
      "    --------------------------------------- 2.9/124.9 MB 1.5 MB/s eta 0:01:21\n",
      "   - -------------------------------------- 3.4/124.9 MB 1.7 MB/s eta 0:01:13\n",
      "   - -------------------------------------- 4.2/124.9 MB 1.9 MB/s eta 0:01:06\n",
      "   - -------------------------------------- 5.0/124.9 MB 2.0 MB/s eta 0:01:00\n",
      "   - -------------------------------------- 5.8/124.9 MB 2.2 MB/s eta 0:00:55\n",
      "   -- ------------------------------------- 6.8/124.9 MB 2.3 MB/s eta 0:00:51\n",
      "   -- ------------------------------------- 7.1/124.9 MB 2.4 MB/s eta 0:00:50\n",
      "   -- ------------------------------------- 8.1/124.9 MB 2.5 MB/s eta 0:00:48\n",
      "   -- ------------------------------------- 8.9/124.9 MB 2.5 MB/s eta 0:00:46\n",
      "   --- ------------------------------------ 9.7/124.9 MB 2.6 MB/s eta 0:00:45\n",
      "   --- ------------------------------------ 10.2/124.9 MB 2.6 MB/s eta 0:00:44\n",
      "   --- ------------------------------------ 11.0/124.9 MB 2.7 MB/s eta 0:00:43\n",
      "   --- ------------------------------------ 12.1/124.9 MB 2.8 MB/s eta 0:00:41\n",
      "   ---- ----------------------------------- 12.6/124.9 MB 2.8 MB/s eta 0:00:41\n",
      "   ---- ----------------------------------- 13.4/124.9 MB 2.8 MB/s eta 0:00:40\n",
      "   ---- ----------------------------------- 14.2/124.9 MB 2.9 MB/s eta 0:00:39\n",
      "   ---- ----------------------------------- 14.7/124.9 MB 2.9 MB/s eta 0:00:39\n",
      "   ---- ----------------------------------- 15.5/124.9 MB 2.9 MB/s eta 0:00:39\n",
      "   ----- ---------------------------------- 16.3/124.9 MB 2.9 MB/s eta 0:00:38\n",
      "   ----- ---------------------------------- 16.8/124.9 MB 2.9 MB/s eta 0:00:38\n",
      "   ----- ---------------------------------- 17.8/124.9 MB 3.0 MB/s eta 0:00:37\n",
      "   ----- ---------------------------------- 18.6/124.9 MB 3.0 MB/s eta 0:00:36\n",
      "   ------ --------------------------------- 19.4/124.9 MB 3.0 MB/s eta 0:00:35\n",
      "   ------ --------------------------------- 20.2/124.9 MB 3.1 MB/s eta 0:00:35\n",
      "   ------ --------------------------------- 21.0/124.9 MB 3.1 MB/s eta 0:00:34\n",
      "   ------ --------------------------------- 21.8/124.9 MB 3.1 MB/s eta 0:00:34\n",
      "   ------- -------------------------------- 22.5/124.9 MB 3.1 MB/s eta 0:00:34\n",
      "   ------- -------------------------------- 23.9/124.9 MB 3.1 MB/s eta 0:00:33\n",
      "   ------- -------------------------------- 24.6/124.9 MB 3.1 MB/s eta 0:00:32\n",
      "   -------- ------------------------------- 25.4/124.9 MB 3.2 MB/s eta 0:00:32\n",
      "   -------- ------------------------------- 26.2/124.9 MB 3.2 MB/s eta 0:00:32\n",
      "   -------- ------------------------------- 26.7/124.9 MB 3.2 MB/s eta 0:00:31\n",
      "   -------- ------------------------------- 27.5/124.9 MB 3.2 MB/s eta 0:00:31\n",
      "   --------- ------------------------------ 28.3/124.9 MB 3.2 MB/s eta 0:00:31\n",
      "   --------- ------------------------------ 29.4/124.9 MB 3.2 MB/s eta 0:00:30\n",
      "   --------- ------------------------------ 29.9/124.9 MB 3.2 MB/s eta 0:00:30\n",
      "   --------- ------------------------------ 30.7/124.9 MB 3.2 MB/s eta 0:00:30\n",
      "   ---------- ----------------------------- 31.5/124.9 MB 3.2 MB/s eta 0:00:30\n",
      "   ---------- ----------------------------- 32.2/124.9 MB 3.2 MB/s eta 0:00:29\n",
      "   ---------- ----------------------------- 33.0/124.9 MB 3.2 MB/s eta 0:00:29\n",
      "   ---------- ----------------------------- 33.8/124.9 MB 3.2 MB/s eta 0:00:29\n",
      "   ----------- ---------------------------- 34.6/124.9 MB 3.3 MB/s eta 0:00:28\n",
      "   ----------- ---------------------------- 35.4/124.9 MB 3.3 MB/s eta 0:00:28\n",
      "   ----------- ---------------------------- 36.2/124.9 MB 3.3 MB/s eta 0:00:27\n",
      "   ----------- ---------------------------- 37.2/124.9 MB 3.3 MB/s eta 0:00:27\n",
      "   ------------ --------------------------- 38.0/124.9 MB 3.3 MB/s eta 0:00:27\n",
      "   ------------ --------------------------- 38.5/124.9 MB 3.3 MB/s eta 0:00:27\n",
      "   ------------ --------------------------- 39.6/124.9 MB 3.3 MB/s eta 0:00:26\n",
      "   ------------ --------------------------- 40.4/124.9 MB 3.3 MB/s eta 0:00:26\n",
      "   ------------- -------------------------- 41.4/124.9 MB 3.4 MB/s eta 0:00:25\n",
      "   ------------- -------------------------- 41.9/124.9 MB 3.4 MB/s eta 0:00:25\n",
      "   ------------- -------------------------- 42.7/124.9 MB 3.4 MB/s eta 0:00:25\n",
      "   ------------- -------------------------- 43.5/124.9 MB 3.4 MB/s eta 0:00:25\n",
      "   -------------- ------------------------- 44.6/124.9 MB 3.4 MB/s eta 0:00:24\n",
      "   -------------- ------------------------- 45.1/124.9 MB 3.4 MB/s eta 0:00:24\n",
      "   -------------- ------------------------- 46.1/124.9 MB 3.4 MB/s eta 0:00:24\n",
      "   -------------- ------------------------- 46.7/124.9 MB 3.4 MB/s eta 0:00:24\n",
      "   --------------- ------------------------ 47.4/124.9 MB 3.4 MB/s eta 0:00:23\n",
      "   --------------- ------------------------ 48.5/124.9 MB 3.4 MB/s eta 0:00:23\n",
      "   --------------- ------------------------ 49.5/124.9 MB 3.4 MB/s eta 0:00:22\n",
      "   ---------------- ----------------------- 50.6/124.9 MB 3.5 MB/s eta 0:00:22\n",
      "   ---------------- ----------------------- 51.4/124.9 MB 3.5 MB/s eta 0:00:22\n",
      "   ---------------- ----------------------- 52.2/124.9 MB 3.5 MB/s eta 0:00:21\n",
      "   ---------------- ----------------------- 52.7/124.9 MB 3.5 MB/s eta 0:00:21\n",
      "   ----------------- ---------------------- 53.5/124.9 MB 3.5 MB/s eta 0:00:21\n",
      "   ----------------- ---------------------- 54.3/124.9 MB 3.5 MB/s eta 0:00:21\n",
      "   ----------------- ---------------------- 55.1/124.9 MB 3.5 MB/s eta 0:00:21\n",
      "   ----------------- ---------------------- 56.1/124.9 MB 3.5 MB/s eta 0:00:20\n",
      "   ------------------ --------------------- 56.4/124.9 MB 3.5 MB/s eta 0:00:20\n",
      "   ------------------ --------------------- 57.4/124.9 MB 3.5 MB/s eta 0:00:20\n",
      "   ------------------ --------------------- 57.4/124.9 MB 3.5 MB/s eta 0:00:20\n",
      "   ------------------ --------------------- 57.4/124.9 MB 3.5 MB/s eta 0:00:20\n",
      "   ------------------ --------------------- 57.4/124.9 MB 3.5 MB/s eta 0:00:20\n",
      "   ------------------ --------------------- 57.4/124.9 MB 3.5 MB/s eta 0:00:20\n",
      "   ------------------ --------------------- 57.4/124.9 MB 3.5 MB/s eta 0:00:20\n",
      "   ------------------ --------------------- 57.4/124.9 MB 3.5 MB/s eta 0:00:20\n",
      "   ------------------ --------------------- 57.4/124.9 MB 3.5 MB/s eta 0:00:20\n",
      "   ------------------ --------------------- 57.4/124.9 MB 3.5 MB/s eta 0:00:20\n",
      "   ------------------ --------------------- 57.4/124.9 MB 3.5 MB/s eta 0:00:20\n",
      "   ------------------ --------------------- 57.4/124.9 MB 3.5 MB/s eta 0:00:20\n",
      "   ------------------ --------------------- 57.4/124.9 MB 3.5 MB/s eta 0:00:20\n",
      "   ------------------ --------------------- 57.4/124.9 MB 3.5 MB/s eta 0:00:20\n",
      "   ------------------ --------------------- 57.4/124.9 MB 3.5 MB/s eta 0:00:20\n",
      "   ------------------ --------------------- 57.4/124.9 MB 3.5 MB/s eta 0:00:20\n",
      "   ------------------ --------------------- 57.4/124.9 MB 3.5 MB/s eta 0:00:20\n",
      "   ------------------ --------------------- 57.4/124.9 MB 3.5 MB/s eta 0:00:20\n",
      "   ------------------ --------------------- 57.4/124.9 MB 3.5 MB/s eta 0:00:20\n",
      "   ------------------ --------------------- 57.4/124.9 MB 3.5 MB/s eta 0:00:20\n",
      "   ------------------ --------------------- 57.4/124.9 MB 3.5 MB/s eta 0:00:20\n",
      "   ------------------ --------------------- 57.4/124.9 MB 3.5 MB/s eta 0:00:20\n",
      "   ------------------ --------------------- 57.4/124.9 MB 3.5 MB/s eta 0:00:20\n",
      "   ------------------ --------------------- 57.4/124.9 MB 3.5 MB/s eta 0:00:20\n",
      "   ------------------ --------------------- 57.4/124.9 MB 3.5 MB/s eta 0:00:20\n",
      "   ------------------ --------------------- 57.4/124.9 MB 3.5 MB/s eta 0:00:20\n",
      "   ------------------ --------------------- 57.4/124.9 MB 3.5 MB/s eta 0:00:20\n",
      "   ------------------ --------------------- 57.4/124.9 MB 3.5 MB/s eta 0:00:20\n",
      "   ------------------ --------------------- 57.4/124.9 MB 3.5 MB/s eta 0:00:20\n",
      "   ------------------ --------------------- 57.4/124.9 MB 3.5 MB/s eta 0:00:20\n",
      "   ------------------ --------------------- 57.4/124.9 MB 3.5 MB/s eta 0:00:20\n",
      "   ------------------ --------------------- 57.4/124.9 MB 3.5 MB/s eta 0:00:20\n",
      "   ------------------ --------------------- 57.4/124.9 MB 3.5 MB/s eta 0:00:20\n",
      "   ------------------ --------------------- 57.4/124.9 MB 3.5 MB/s eta 0:00:20\n",
      "   ------------------ --------------------- 57.4/124.9 MB 3.5 MB/s eta 0:00:20\n",
      "   ------------------ --------------------- 57.4/124.9 MB 3.5 MB/s eta 0:00:20\n",
      "   ------------------ --------------------- 57.4/124.9 MB 3.5 MB/s eta 0:00:20\n",
      "   ------------------ --------------------- 57.4/124.9 MB 3.5 MB/s eta 0:00:20\n",
      "   ------------------ --------------------- 57.4/124.9 MB 3.5 MB/s eta 0:00:20\n",
      "   ------------------ --------------------- 57.4/124.9 MB 3.5 MB/s eta 0:00:20\n",
      "   ------------------ --------------------- 57.4/124.9 MB 3.5 MB/s eta 0:00:20\n",
      "   ------------------ --------------------- 57.4/124.9 MB 3.5 MB/s eta 0:00:20\n",
      "   ------------------ --------------------- 57.4/124.9 MB 3.5 MB/s eta 0:00:20\n",
      "   ------------------ --------------------- 57.4/124.9 MB 3.5 MB/s eta 0:00:20\n",
      "   ------------------ --------------------- 57.4/124.9 MB 3.5 MB/s eta 0:00:20\n",
      "   ------------------ --------------------- 57.4/124.9 MB 3.5 MB/s eta 0:00:20\n",
      "   ------------------ --------------------- 57.4/124.9 MB 3.5 MB/s eta 0:00:20\n",
      "   ------------------ --------------------- 57.4/124.9 MB 3.5 MB/s eta 0:00:20\n",
      "   ------------------ --------------------- 57.4/124.9 MB 3.5 MB/s eta 0:00:20\n",
      "   ------------------ --------------------- 57.4/124.9 MB 3.5 MB/s eta 0:00:20\n",
      "   ------------------ --------------------- 57.4/124.9 MB 3.5 MB/s eta 0:00:20\n",
      "   ------------------ --------------------- 57.4/124.9 MB 3.5 MB/s eta 0:00:20\n",
      "   ------------------ --------------------- 57.4/124.9 MB 3.5 MB/s eta 0:00:20\n",
      "   ------------------ --------------------- 57.4/124.9 MB 3.5 MB/s eta 0:00:20\n",
      "   ------------------ --------------------- 57.4/124.9 MB 3.5 MB/s eta 0:00:20\n",
      "   ------------------ --------------------- 57.4/124.9 MB 3.5 MB/s eta 0:00:20\n",
      "   ------------------ --------------------- 57.4/124.9 MB 3.5 MB/s eta 0:00:20\n",
      "   ------------------ --------------------- 57.4/124.9 MB 3.5 MB/s eta 0:00:20\n",
      "   ------------------ --------------------- 57.4/124.9 MB 3.5 MB/s eta 0:00:20\n",
      "   ------------------ --------------------- 57.4/124.9 MB 3.5 MB/s eta 0:00:20\n",
      "   ------------------ --------------------- 57.4/124.9 MB 3.5 MB/s eta 0:00:20\n",
      "   ------------------ --------------------- 57.4/124.9 MB 3.5 MB/s eta 0:00:20\n",
      "   ------------------ --------------------- 57.4/124.9 MB 3.5 MB/s eta 0:00:20\n",
      "   ------------------ --------------------- 57.4/124.9 MB 3.5 MB/s eta 0:00:20\n",
      "   ------------------ --------------------- 57.4/124.9 MB 3.5 MB/s eta 0:00:20\n",
      "   ------------------ --------------------- 57.4/124.9 MB 3.5 MB/s eta 0:00:20\n",
      "   ------------------ --------------------- 57.4/124.9 MB 3.5 MB/s eta 0:00:20\n",
      "   ------------------ --------------------- 57.4/124.9 MB 3.5 MB/s eta 0:00:20\n",
      "   ------------------ --------------------- 57.4/124.9 MB 3.5 MB/s eta 0:00:20\n",
      "   ------------------ --------------------- 57.4/124.9 MB 3.5 MB/s eta 0:00:20\n",
      "   ------------------ --------------------- 57.4/124.9 MB 3.5 MB/s eta 0:00:20\n",
      "   ------------------ --------------------- 57.4/124.9 MB 3.5 MB/s eta 0:00:20\n"
     ]
    },
    {
     "name": "stderr",
     "output_type": "stream",
     "text": [
      "ERROR: Exception:\n",
      "Traceback (most recent call last):\n",
      "  File \"C:\\Users\\tiwar\\MLprojects\\venv\\lib\\site-packages\\pip\\_vendor\\urllib3\\response.py\", line 438, in _error_catcher\n",
      "    yield\n",
      "  File \"C:\\Users\\tiwar\\MLprojects\\venv\\lib\\site-packages\\pip\\_vendor\\urllib3\\response.py\", line 561, in read\n",
      "    data = self._fp_read(amt) if not fp_closed else b\"\"\n",
      "  File \"C:\\Users\\tiwar\\MLprojects\\venv\\lib\\site-packages\\pip\\_vendor\\urllib3\\response.py\", line 527, in _fp_read\n",
      "    return self._fp.read(amt) if amt is not None else self._fp.read()\n",
      "  File \"C:\\Users\\tiwar\\MLprojects\\venv\\lib\\site-packages\\pip\\_vendor\\cachecontrol\\filewrapper.py\", line 98, in read\n",
      "    data: bytes = self.__fp.read(amt)\n",
      "  File \"C:\\Users\\tiwar\\MLprojects\\venv\\lib\\http\\client.py\", line 459, in read\n",
      "    n = self.readinto(b)\n",
      "  File \"C:\\Users\\tiwar\\MLprojects\\venv\\lib\\http\\client.py\", line 503, in readinto\n",
      "    n = self.fp.readinto(b)\n",
      "  File \"C:\\Users\\tiwar\\MLprojects\\venv\\lib\\socket.py\", line 681, in readinto\n",
      "    return self._sock.recv_into(b)\n",
      "  File \"C:\\Users\\tiwar\\MLprojects\\venv\\lib\\ssl.py\", line 1274, in recv_into\n",
      "    return self.read(nbytes, buffer)\n",
      "  File \"C:\\Users\\tiwar\\MLprojects\\venv\\lib\\ssl.py\", line 1132, in read\n",
      "    return self._sslobj.read(len, buffer)\n",
      "socket.timeout: The read operation timed out\n",
      "\n",
      "During handling of the above exception, another exception occurred:\n",
      "\n",
      "Traceback (most recent call last):\n",
      "  File \"C:\\Users\\tiwar\\MLprojects\\venv\\lib\\site-packages\\pip\\_internal\\cli\\base_command.py\", line 105, in _run_wrapper\n",
      "    status = _inner_run()\n",
      "  File \"C:\\Users\\tiwar\\MLprojects\\venv\\lib\\site-packages\\pip\\_internal\\cli\\base_command.py\", line 96, in _inner_run\n",
      "    return self.run(options, args)\n",
      "  File \"C:\\Users\\tiwar\\MLprojects\\venv\\lib\\site-packages\\pip\\_internal\\cli\\req_command.py\", line 67, in wrapper\n",
      "    return func(self, options, args)\n",
      "  File \"C:\\Users\\tiwar\\MLprojects\\venv\\lib\\site-packages\\pip\\_internal\\commands\\install.py\", line 379, in run\n",
      "    requirement_set = resolver.resolve(\n",
      "  File \"C:\\Users\\tiwar\\MLprojects\\venv\\lib\\site-packages\\pip\\_internal\\resolution\\resolvelib\\resolver.py\", line 179, in resolve\n",
      "    self.factory.preparer.prepare_linked_requirements_more(reqs)\n",
      "  File \"C:\\Users\\tiwar\\MLprojects\\venv\\lib\\site-packages\\pip\\_internal\\operations\\prepare.py\", line 554, in prepare_linked_requirements_more\n",
      "    self._complete_partial_requirements(\n",
      "  File \"C:\\Users\\tiwar\\MLprojects\\venv\\lib\\site-packages\\pip\\_internal\\operations\\prepare.py\", line 469, in _complete_partial_requirements\n",
      "    for link, (filepath, _) in batch_download:\n",
      "  File \"C:\\Users\\tiwar\\MLprojects\\venv\\lib\\site-packages\\pip\\_internal\\network\\download.py\", line 184, in __call__\n",
      "    for chunk in chunks:\n",
      "  File \"C:\\Users\\tiwar\\MLprojects\\venv\\lib\\site-packages\\pip\\_internal\\cli\\progress_bars.py\", line 55, in _rich_progress_bar\n",
      "    for chunk in iterable:\n",
      "  File \"C:\\Users\\tiwar\\MLprojects\\venv\\lib\\site-packages\\pip\\_internal\\network\\utils.py\", line 65, in response_chunks\n",
      "    for chunk in response.raw.stream(\n",
      "  File \"C:\\Users\\tiwar\\MLprojects\\venv\\lib\\site-packages\\pip\\_vendor\\urllib3\\response.py\", line 622, in stream\n",
      "    data = self.read(amt=amt, decode_content=decode_content)\n",
      "  File \"C:\\Users\\tiwar\\MLprojects\\venv\\lib\\site-packages\\pip\\_vendor\\urllib3\\response.py\", line 587, in read\n",
      "    raise IncompleteRead(self._fp_bytes_read, self.length_remaining)\n",
      "  File \"C:\\Users\\tiwar\\MLprojects\\venv\\lib\\contextlib.py\", line 131, in __exit__\n",
      "    self.gen.throw(type, value, traceback)\n",
      "  File \"C:\\Users\\tiwar\\MLprojects\\venv\\lib\\site-packages\\pip\\_vendor\\urllib3\\response.py\", line 443, in _error_catcher\n",
      "    raise ReadTimeoutError(self._pool, None, \"Read timed out.\")\n",
      "pip._vendor.urllib3.exceptions.ReadTimeoutError: HTTPSConnectionPool(host='files.pythonhosted.org', port=443): Read timed out.\n"
     ]
    }
   ],
   "source": [
    "!pip install numpy\n",
    "!pip install pandas\n",
    "!pip install seaborn\n",
    "!pip install matplotlib\n",
    "!pip install warnings\n",
    "!pip install sklearn\n",
    "!pip install scipy\n",
    "!pip install statsmodels\n",
    "!pip install xgboost\n",
    "!pip install lightgbm\n",
    "!pip install catboost\n",
    "!pip install hyperopt\n",
    "!pip install optuna\n",
    "!pip install mlflow\n",
    "!pip install dvc\n",
    "!pip install kedro\n",
    "!pip install pytorch\n",
    "!pip install tensorflow\n",
    "import numpy as np\n",
    "import pandas as pd\n",
    "import seaborn as sns\n",
    "import matplotlib.pyplot as plt\n",
    "%matplotlib inline\n",
    "import warnings\n",
    "warnings.filterwarnings('ignore')"
   ]
  },
  {
   "cell_type": "markdown",
   "id": "3caeb0bb",
   "metadata": {},
   "source": [
    "#### Import the CSV Data as Pandas DataFrame"
   ]
  },
  {
   "cell_type": "code",
   "execution_count": null,
   "id": "57907087",
   "metadata": {},
   "outputs": [],
   "source": [
    "df = pd.read_csv('data/stud.csv')"
   ]
  },
  {
   "cell_type": "markdown",
   "id": "92c8fd8a",
   "metadata": {},
   "source": [
    "#### Show Top 5 Records"
   ]
  },
  {
   "cell_type": "code",
   "execution_count": null,
   "id": "7d1a2a0b",
   "metadata": {},
   "outputs": [],
   "source": [
    "df.head()"
   ]
  },
  {
   "cell_type": "markdown",
   "id": "56a49220",
   "metadata": {},
   "source": [
    "#### Shape of the dataset"
   ]
  },
  {
   "cell_type": "code",
   "execution_count": null,
   "id": "417e5820",
   "metadata": {},
   "outputs": [],
   "source": [
    "df.shape"
   ]
  },
  {
   "cell_type": "markdown",
   "id": "041aa39d",
   "metadata": {},
   "source": [
    "### 2.2 Dataset information"
   ]
  },
  {
   "cell_type": "markdown",
   "id": "7e3cff9d",
   "metadata": {},
   "source": [
    "- gender : sex of students  -> (Male/female)\n",
    "- race/ethnicity : ethnicity of students -> (Group A, B,C, D,E)\n",
    "- parental level of education : parents' final education ->(bachelor's degree,some college,master's degree,associate's degree,high school)\n",
    "- lunch : having lunch before test (standard or free/reduced) \n",
    "- test preparation course : complete or not complete before test\n",
    "- math score\n",
    "- reading score\n",
    "- writing score"
   ]
  },
  {
   "cell_type": "markdown",
   "id": "27c4b61b",
   "metadata": {},
   "source": [
    "### 3. Data Checks to perform\n",
    "\n",
    "- Check Missing values\n",
    "- Check Duplicates\n",
    "- Check data type\n",
    "- Check the number of unique values of each column\n",
    "- Check statistics of data set\n",
    "- Check various categories present in the different categorical column"
   ]
  },
  {
   "cell_type": "markdown",
   "id": "c31d4123",
   "metadata": {},
   "source": [
    "### 3.1 Check Missing values"
   ]
  },
  {
   "cell_type": "code",
   "execution_count": null,
   "id": "707d6a7b",
   "metadata": {},
   "outputs": [],
   "source": [
    "df.isna().sum()"
   ]
  },
  {
   "cell_type": "markdown",
   "id": "ce8f7b83",
   "metadata": {},
   "source": [
    "#### There are no missing values in the data set"
   ]
  },
  {
   "cell_type": "markdown",
   "id": "5840ff7f",
   "metadata": {},
   "source": [
    "### 3.2 Check Duplicates"
   ]
  },
  {
   "cell_type": "code",
   "execution_count": null,
   "id": "ae16686e",
   "metadata": {},
   "outputs": [],
   "source": [
    "df.duplicated().sum()"
   ]
  },
  {
   "cell_type": "markdown",
   "id": "e5d7ae8e",
   "metadata": {},
   "source": [
    "#### There are no duplicates  values in the data set"
   ]
  },
  {
   "cell_type": "markdown",
   "id": "30dfacc8",
   "metadata": {},
   "source": [
    "### 3.3 Check data types"
   ]
  },
  {
   "cell_type": "code",
   "execution_count": null,
   "id": "25f95bc8",
   "metadata": {},
   "outputs": [],
   "source": [
    "# Check Null and Dtypes\n",
    "df.info()"
   ]
  },
  {
   "cell_type": "markdown",
   "id": "0dbbf5b4",
   "metadata": {},
   "source": [
    "### 3.4 Checking the number of unique values of each column"
   ]
  },
  {
   "cell_type": "code",
   "execution_count": null,
   "id": "2c2b61b6",
   "metadata": {},
   "outputs": [],
   "source": [
    "df.nunique()"
   ]
  },
  {
   "cell_type": "markdown",
   "id": "a4f6b022",
   "metadata": {},
   "source": [
    "### 3.5 Check statistics of data set"
   ]
  },
  {
   "cell_type": "code",
   "execution_count": null,
   "id": "76c608dc",
   "metadata": {},
   "outputs": [],
   "source": [
    "df.describe()"
   ]
  },
  {
   "cell_type": "markdown",
   "id": "9dc41207",
   "metadata": {},
   "source": [
    "#### Insight\n",
    "- From above description of numerical data, all means are very close to each other - between 66 and 68.05;\n",
    "- All standard deviations are also close - between 14.6 and 15.19;\n",
    "- While there is a minimum score  0 for math, for writing minimum is much higher = 10 and for reading myet higher = 17"
   ]
  },
  {
   "cell_type": "markdown",
   "id": "ac52d9cb",
   "metadata": {},
   "source": [
    "### 3.7 Exploring Data"
   ]
  },
  {
   "cell_type": "code",
   "execution_count": null,
   "id": "1afd3c09",
   "metadata": {},
   "outputs": [],
   "source": [
    "df.head()"
   ]
  },
  {
   "cell_type": "code",
   "execution_count": null,
   "id": "b9081742",
   "metadata": {},
   "outputs": [],
   "source": [
    "print(\"Categories in 'gender' variable:     \",end=\" \" )\n",
    "print(df['gender'].unique())\n",
    "\n",
    "print(\"Categories in 'race_ethnicity' variable:  \",end=\" \")\n",
    "print(df['race_ethnicity'].unique())\n",
    "\n",
    "print(\"Categories in'parental level of education' variable:\",end=\" \" )\n",
    "print(df['parental_level_of_education'].unique())\n",
    "\n",
    "print(\"Categories in 'lunch' variable:     \",end=\" \" )\n",
    "print(df['lunch'].unique())\n",
    "\n",
    "print(\"Categories in 'test preparation course' variable:     \",end=\" \" )\n",
    "print(df['test_preparation_course'].unique())"
   ]
  },
  {
   "cell_type": "code",
   "execution_count": null,
   "id": "2dd97e26",
   "metadata": {},
   "outputs": [],
   "source": [
    "# define numerical & categorical columns\n",
    "numeric_features = [feature for feature in df.columns if df[feature].dtype != 'O']\n",
    "categorical_features = [feature for feature in df.columns if df[feature].dtype == 'O']\n",
    "\n",
    "# print columns\n",
    "print('We have {} numerical features : {}'.format(len(numeric_features), numeric_features))\n",
    "print('\\nWe have {} categorical features : {}'.format(len(categorical_features), categorical_features))"
   ]
  },
  {
   "cell_type": "code",
   "execution_count": null,
   "id": "ae2822d1",
   "metadata": {},
   "outputs": [],
   "source": [
    "df.head(2)"
   ]
  },
  {
   "cell_type": "code",
   "execution_count": null,
   "id": "204aa708",
   "metadata": {},
   "outputs": [],
   "source": []
  },
  {
   "cell_type": "markdown",
   "id": "bd42eda6",
   "metadata": {},
   "source": [
    "### 3.8 Adding columns for \"Total Score\" and \"Average\""
   ]
  },
  {
   "cell_type": "code",
   "execution_count": null,
   "id": "3ffbfdf7",
   "metadata": {},
   "outputs": [],
   "source": [
    "df['total score'] = df['math_score'] + df['reading_score'] + df['writing_score']\n",
    "df['average'] = df['total score']/3\n",
    "df.head()"
   ]
  },
  {
   "cell_type": "code",
   "execution_count": null,
   "id": "26dc3844",
   "metadata": {},
   "outputs": [],
   "source": [
    "reading_full = df[df['reading_score'] == 100]['average'].count()\n",
    "writing_full = df[df['writing_score'] == 100]['average'].count()\n",
    "math_full = df[df['math_score'] == 100]['average'].count()\n",
    "\n",
    "print(f'Number of students with full marks in Maths: {math_full}')\n",
    "print(f'Number of students with full marks in Writing: {writing_full}')\n",
    "print(f'Number of students with full marks in Reading: {reading_full}')"
   ]
  },
  {
   "cell_type": "code",
   "execution_count": null,
   "id": "572c8a75",
   "metadata": {},
   "outputs": [],
   "source": [
    "reading_less_20 = df[df['reading_score'] <= 20]['average'].count()\n",
    "writing_less_20 = df[df['writing_score'] <= 20]['average'].count()\n",
    "math_less_20 = df[df['math_score'] <= 20]['average'].count()\n",
    "\n",
    "print(f'Number of students with less than 20 marks in Maths: {math_less_20}')\n",
    "print(f'Number of students with less than 20 marks in Writing: {writing_less_20}')\n",
    "print(f'Number of students with less than 20 marks in Reading: {reading_less_20}')"
   ]
  },
  {
   "cell_type": "markdown",
   "id": "190e078c",
   "metadata": {},
   "source": [
    "#####  Insights\n",
    " - From above values we get students have performed the worst in Maths \n",
    " - Best performance is in reading section"
   ]
  },
  {
   "cell_type": "markdown",
   "id": "e598bc93",
   "metadata": {},
   "source": [
    "### 4. Exploring Data ( Visualization )\n",
    "#### 4.1 Visualize average score distribution to make some conclusion. \n",
    "- Histogram\n",
    "- Kernel Distribution Function (KDE)"
   ]
  },
  {
   "cell_type": "markdown",
   "id": "f4726058",
   "metadata": {},
   "source": [
    "#### 4.1.1 Histogram & KDE"
   ]
  },
  {
   "cell_type": "code",
   "execution_count": null,
   "id": "c2510266",
   "metadata": {},
   "outputs": [],
   "source": [
    "fig, axs = plt.subplots(1, 2, figsize=(15, 7))\n",
    "plt.subplot(121)\n",
    "sns.histplot(data=df,x='average',bins=30,kde=True,color='g')\n",
    "plt.subplot(122)\n",
    "sns.histplot(data=df,x='average',kde=True,hue='gender')\n",
    "plt.show()"
   ]
  },
  {
   "cell_type": "code",
   "execution_count": null,
   "id": "e7967c7a",
   "metadata": {},
   "outputs": [],
   "source": [
    "fig, axs = plt.subplots(1, 2, figsize=(15, 7))\n",
    "plt.subplot(121)\n",
    "sns.histplot(data=df,x='total score',bins=30,kde=True,color='g')\n",
    "plt.subplot(122)\n",
    "sns.histplot(data=df,x='total score',kde=True,hue='gender')\n",
    "plt.show()"
   ]
  },
  {
   "cell_type": "markdown",
   "id": "3d200b76",
   "metadata": {},
   "source": [
    "#####  Insights\n",
    "- Female students tend to perform well then male students."
   ]
  },
  {
   "cell_type": "code",
   "execution_count": null,
   "id": "15522737",
   "metadata": {},
   "outputs": [],
   "source": [
    "plt.subplots(1,3,figsize=(25,6))\n",
    "plt.subplot(141)\n",
    "sns.histplot(data=df,x='average',kde=True,hue='lunch')\n",
    "plt.subplot(142)\n",
    "sns.histplot(data=df[df.gender=='female'],x='average',kde=True,hue='lunch')\n",
    "plt.subplot(143)\n",
    "sns.histplot(data=df[df.gender=='male'],x='average',kde=True,hue='lunch')\n",
    "plt.show()"
   ]
  },
  {
   "cell_type": "markdown",
   "id": "569113e7",
   "metadata": {},
   "source": [
    "#####  Insights\n",
    "- Standard lunch helps perform well in exams.\n",
    "- Standard lunch helps perform well in exams be it a male or a female."
   ]
  },
  {
   "cell_type": "code",
   "execution_count": null,
   "id": "0b6c697a",
   "metadata": {},
   "outputs": [],
   "source": [
    "plt.subplots(1,3,figsize=(25,6))\n",
    "plt.subplot(141)\n",
    "ax =sns.histplot(data=df,x='average',kde=True,hue='parental level of education')\n",
    "plt.subplot(142)\n",
    "ax =sns.histplot(data=df[df.gender=='male'],x='average',kde=True,hue='parental level of education')\n",
    "plt.subplot(143)\n",
    "ax =sns.histplot(data=df[df.gender=='female'],x='average',kde=True,hue='parental level of education')\n",
    "plt.show()"
   ]
  },
  {
   "cell_type": "markdown",
   "id": "9e7fd489",
   "metadata": {},
   "source": [
    "#####  Insights\n",
    "- In general parent's education don't help student perform well in exam.\n",
    "- 2nd plot shows that parent's whose education is of associate's degree or master's degree their male child tend to perform well in exam\n",
    "- 3rd plot we can see there is no effect of parent's education on female students."
   ]
  },
  {
   "cell_type": "code",
   "execution_count": null,
   "id": "0b30cbd7",
   "metadata": {},
   "outputs": [],
   "source": [
    "plt.subplots(1,3,figsize=(25,6))\n",
    "plt.subplot(141)\n",
    "ax =sns.histplot(data=df,x='average',kde=True,hue='race/ethnicity')\n",
    "plt.subplot(142)\n",
    "ax =sns.histplot(data=df[df.gender=='female'],x='average',kde=True,hue='race/ethnicity')\n",
    "plt.subplot(143)\n",
    "ax =sns.histplot(data=df[df.gender=='male'],x='average',kde=True,hue='race/ethnicity')\n",
    "plt.show()"
   ]
  },
  {
   "cell_type": "markdown",
   "id": "6180a334",
   "metadata": {},
   "source": [
    "#####  Insights\n",
    "- Students of group A and group B tends to perform poorly in exam.\n",
    "- Students of group A and group B tends to perform poorly in exam irrespective of whether they are male or female"
   ]
  },
  {
   "cell_type": "markdown",
   "id": "a1f7eef3",
   "metadata": {},
   "source": [
    "#### 4.2 Maximumum score of students in all three subjects"
   ]
  },
  {
   "cell_type": "code",
   "execution_count": null,
   "id": "14db115f",
   "metadata": {},
   "outputs": [],
   "source": [
    "\n",
    "plt.figure(figsize=(18,8))\n",
    "plt.subplot(1, 4, 1)\n",
    "plt.title('MATH SCORES')\n",
    "sns.violinplot(y='math score',data=df,color='red',linewidth=3)\n",
    "plt.subplot(1, 4, 2)\n",
    "plt.title('READING SCORES')\n",
    "sns.violinplot(y='reading score',data=df,color='green',linewidth=3)\n",
    "plt.subplot(1, 4, 3)\n",
    "plt.title('WRITING SCORES')\n",
    "sns.violinplot(y='writing score',data=df,color='blue',linewidth=3)\n",
    "plt.show()"
   ]
  },
  {
   "cell_type": "markdown",
   "id": "66d1041f",
   "metadata": {},
   "source": [
    "#### Insights\n",
    "- From the above three plots its clearly visible that most of the students score in between 60-80 in Maths whereas in reading and writing most of them score from 50-80"
   ]
  },
  {
   "cell_type": "markdown",
   "id": "ae77a33d",
   "metadata": {},
   "source": [
    "#### 4.3 Multivariate analysis using pieplot"
   ]
  },
  {
   "cell_type": "code",
   "execution_count": null,
   "id": "2ddf9ce3",
   "metadata": {},
   "outputs": [],
   "source": [
    "plt.rcParams['figure.figsize'] = (30, 12)\n",
    "\n",
    "plt.subplot(1, 5, 1)\n",
    "size = df['gender'].value_counts()\n",
    "labels = 'Female', 'Male'\n",
    "color = ['red','green']\n",
    "\n",
    "\n",
    "plt.pie(size, colors = color, labels = labels,autopct = '.%2f%%')\n",
    "plt.title('Gender', fontsize = 20)\n",
    "plt.axis('off')\n",
    "\n",
    "\n",
    "\n",
    "plt.subplot(1, 5, 2)\n",
    "size = df['race/ethnicity'].value_counts()\n",
    "labels = 'Group C', 'Group D','Group B','Group E','Group A'\n",
    "color = ['red', 'green', 'blue', 'cyan','orange']\n",
    "\n",
    "plt.pie(size, colors = color,labels = labels,autopct = '.%2f%%')\n",
    "plt.title('Race/Ethnicity', fontsize = 20)\n",
    "plt.axis('off')\n",
    "\n",
    "\n",
    "\n",
    "plt.subplot(1, 5, 3)\n",
    "size = df['lunch'].value_counts()\n",
    "labels = 'Standard', 'Free'\n",
    "color = ['red','green']\n",
    "\n",
    "plt.pie(size, colors = color,labels = labels,autopct = '.%2f%%')\n",
    "plt.title('Lunch', fontsize = 20)\n",
    "plt.axis('off')\n",
    "\n",
    "\n",
    "plt.subplot(1, 5, 4)\n",
    "size = df['test preparation course'].value_counts()\n",
    "labels = 'None', 'Completed'\n",
    "color = ['red','green']\n",
    "\n",
    "plt.pie(size, colors = color,labels = labels,autopct = '.%2f%%')\n",
    "plt.title('Test Course', fontsize = 20)\n",
    "plt.axis('off')\n",
    "\n",
    "\n",
    "plt.subplot(1, 5, 5)\n",
    "size = df['parental level of education'].value_counts()\n",
    "labels = 'Some College', \"Associate's Degree\",'High School','Some High School',\"Bachelor's Degree\",\"Master's Degree\"\n",
    "color = ['red', 'green', 'blue', 'cyan','orange','grey']\n",
    "\n",
    "plt.pie(size, colors = color,labels = labels,autopct = '.%2f%%')\n",
    "plt.title('Parental Education', fontsize = 20)\n",
    "plt.axis('off')\n",
    "\n",
    "\n",
    "plt.tight_layout()\n",
    "plt.grid()\n",
    "\n",
    "plt.show()"
   ]
  },
  {
   "cell_type": "markdown",
   "id": "2e2d686a",
   "metadata": {},
   "source": [
    "#####  Insights\n",
    "- Number of Male and Female students is almost equal\n",
    "- Number students are greatest in Group C\n",
    "- Number of students who have standard lunch are greater\n",
    "- Number of students who have not enrolled in any test preparation course is greater\n",
    "- Number of students whose parental education is \"Some College\" is greater followed closely by \"Associate's Degree\""
   ]
  },
  {
   "cell_type": "markdown",
   "id": "ab008237",
   "metadata": {},
   "source": [
    "#### 4.4 Feature Wise Visualization\n",
    "#### 4.4.1 GENDER COLUMN\n",
    "- How is distribution of Gender ?\n",
    "- Is gender has any impact on student's performance ?"
   ]
  },
  {
   "cell_type": "markdown",
   "id": "e1a2c8f5",
   "metadata": {},
   "source": [
    "#### UNIVARIATE ANALYSIS ( How is distribution of Gender ? )"
   ]
  },
  {
   "cell_type": "code",
   "execution_count": null,
   "id": "c435f53b",
   "metadata": {},
   "outputs": [],
   "source": [
    "f,ax=plt.subplots(1,2,figsize=(20,10))\n",
    "sns.countplot(x=df['gender'],data=df,palette ='bright',ax=ax[0],saturation=0.95)\n",
    "for container in ax[0].containers:\n",
    "    ax[0].bar_label(container,color='black',size=20)\n",
    "    \n",
    "plt.pie(x=df['gender'].value_counts(),labels=['Male','Female'],explode=[0,0.1],autopct='%1.1f%%',shadow=True,colors=['#ff4d4d','#ff8000'])\n",
    "plt.show()"
   ]
  },
  {
   "cell_type": "markdown",
   "id": "cfb8c9b2",
   "metadata": {},
   "source": [
    "#### Insights \n",
    "- Gender has balanced data with female students are 518 (48%) and male students are 482 (52%) "
   ]
  },
  {
   "cell_type": "markdown",
   "id": "e440a3a5",
   "metadata": {},
   "source": [
    "#### BIVARIATE ANALYSIS ( Is gender has any impact on student's performance ? ) "
   ]
  },
  {
   "cell_type": "code",
   "execution_count": null,
   "id": "526d49f9",
   "metadata": {},
   "outputs": [],
   "source": [
    "gender_group = df.groupby('gender').mean()\n",
    "gender_group"
   ]
  },
  {
   "cell_type": "code",
   "execution_count": null,
   "id": "b704f144",
   "metadata": {},
   "outputs": [],
   "source": [
    "plt.figure(figsize=(10, 8))\n",
    "\n",
    "X = ['Total Average','Math Average']\n",
    "\n",
    "\n",
    "female_scores = [gender_group['average'][0], gender_group['math score'][0]]\n",
    "male_scores = [gender_group['average'][1], gender_group['math score'][1]]\n",
    "\n",
    "X_axis = np.arange(len(X))\n",
    "  \n",
    "plt.bar(X_axis - 0.2, male_scores, 0.4, label = 'Male')\n",
    "plt.bar(X_axis + 0.2, female_scores, 0.4, label = 'Female')\n",
    "  \n",
    "plt.xticks(X_axis, X)\n",
    "plt.ylabel(\"Marks\")\n",
    "plt.title(\"Total average v/s Math average marks of both the genders\", fontweight='bold')\n",
    "plt.legend()\n",
    "plt.show()"
   ]
  },
  {
   "cell_type": "markdown",
   "id": "72fbab62",
   "metadata": {},
   "source": [
    "#### Insights \n",
    "- On an average females have a better overall score than men.\n",
    "- whereas males have scored higher in Maths."
   ]
  },
  {
   "cell_type": "markdown",
   "id": "1a903c5c",
   "metadata": {},
   "source": [
    "#### 4.4.2 RACE/EHNICITY COLUMN\n",
    "- How is Group wise distribution ?\n",
    "- Is Race/Ehnicity has any impact on student's performance ?"
   ]
  },
  {
   "cell_type": "markdown",
   "id": "69fe557f",
   "metadata": {},
   "source": [
    "#### UNIVARIATE ANALYSIS ( How is Group wise distribution ?)"
   ]
  },
  {
   "cell_type": "code",
   "execution_count": null,
   "id": "acbc5c8e",
   "metadata": {},
   "outputs": [],
   "source": [
    "f,ax=plt.subplots(1,2,figsize=(20,10))\n",
    "sns.countplot(x=df['race/ethnicity'],data=df,palette = 'bright',ax=ax[0],saturation=0.95)\n",
    "for container in ax[0].containers:\n",
    "    ax[0].bar_label(container,color='black',size=20)\n",
    "    \n",
    "plt.pie(x = df['race/ethnicity'].value_counts(),labels=df['race/ethnicity'].value_counts().index,explode=[0.1,0,0,0,0],autopct='%1.1f%%',shadow=True)\n",
    "plt.show()   "
   ]
  },
  {
   "cell_type": "markdown",
   "id": "1762646a",
   "metadata": {},
   "source": [
    "#### Insights \n",
    "- Most of the student belonging from group C /group D.\n",
    "- Lowest number of students belong to groupA."
   ]
  },
  {
   "cell_type": "markdown",
   "id": "2d3a3719",
   "metadata": {},
   "source": [
    "#### BIVARIATE ANALYSIS ( Is Race/Ehnicity has any impact on student's performance ? )"
   ]
  },
  {
   "cell_type": "code",
   "execution_count": null,
   "id": "db261c61",
   "metadata": {},
   "outputs": [],
   "source": [
    "Group_data2=df.groupby('race/ethnicity')\n",
    "f,ax=plt.subplots(1,3,figsize=(20,8))\n",
    "sns.barplot(x=Group_data2['math score'].mean().index,y=Group_data2['math score'].mean().values,palette = 'mako',ax=ax[0])\n",
    "ax[0].set_title('Math score',color='#005ce6',size=20)\n",
    "\n",
    "for container in ax[0].containers:\n",
    "    ax[0].bar_label(container,color='black',size=15)\n",
    "\n",
    "sns.barplot(x=Group_data2['reading score'].mean().index,y=Group_data2['reading score'].mean().values,palette = 'flare',ax=ax[1])\n",
    "ax[1].set_title('Reading score',color='#005ce6',size=20)\n",
    "\n",
    "for container in ax[1].containers:\n",
    "    ax[1].bar_label(container,color='black',size=15)\n",
    "\n",
    "sns.barplot(x=Group_data2['writing score'].mean().index,y=Group_data2['writing score'].mean().values,palette = 'coolwarm',ax=ax[2])\n",
    "ax[2].set_title('Writing score',color='#005ce6',size=20)\n",
    "\n",
    "for container in ax[2].containers:\n",
    "    ax[2].bar_label(container,color='black',size=15)"
   ]
  },
  {
   "cell_type": "markdown",
   "id": "8e292ddd",
   "metadata": {},
   "source": [
    "#### Insights \n",
    "- Group E students have scored the highest marks. \n",
    "- Group A students have scored the lowest marks. \n",
    "- Students from a lower Socioeconomic status have a lower avg in all course subjects"
   ]
  },
  {
   "cell_type": "markdown",
   "id": "1409042e",
   "metadata": {},
   "source": [
    "#### 4.4.3 PARENTAL LEVEL OF EDUCATION COLUMN\n",
    "- What is educational background of student's parent ?\n",
    "- Is parental education has any impact on student's performance ?"
   ]
  },
  {
   "cell_type": "markdown",
   "id": "38aca4fc",
   "metadata": {},
   "source": [
    "#### UNIVARIATE ANALYSIS ( What is educational background of student's parent ? )"
   ]
  },
  {
   "cell_type": "code",
   "execution_count": null,
   "id": "c05ab987",
   "metadata": {},
   "outputs": [],
   "source": [
    "plt.rcParams['figure.figsize'] = (15, 9)\n",
    "plt.style.use('fivethirtyeight')\n",
    "sns.countplot(df['parental level of education'], palette = 'Blues')\n",
    "plt.title('Comparison of Parental Education', fontweight = 30, fontsize = 20)\n",
    "plt.xlabel('Degree')\n",
    "plt.ylabel('count')\n",
    "plt.show()"
   ]
  },
  {
   "cell_type": "markdown",
   "id": "3d351e1d",
   "metadata": {},
   "source": [
    "#### Insights \n",
    "- Largest number of parents are from some college."
   ]
  },
  {
   "cell_type": "markdown",
   "id": "6f38ab41",
   "metadata": {},
   "source": [
    "#### BIVARIATE ANALYSIS ( Is parental education has any impact on student's performance ? )"
   ]
  },
  {
   "cell_type": "code",
   "execution_count": null,
   "id": "122b2581",
   "metadata": {},
   "outputs": [],
   "source": [
    "df.groupby('parental level of education').agg('mean').plot(kind='barh',figsize=(10,10))\n",
    "plt.legend(bbox_to_anchor=(1.05, 1), loc=2, borderaxespad=0.)\n",
    "plt.show()"
   ]
  },
  {
   "cell_type": "markdown",
   "id": "58b3999d",
   "metadata": {},
   "source": [
    "#### Insights \n",
    "- The score of student whose parents possess master and bachelor level education are higher than others."
   ]
  },
  {
   "cell_type": "markdown",
   "id": "079f4f29",
   "metadata": {},
   "source": [
    "#### 4.4.4 LUNCH COLUMN \n",
    "- Which type of lunch is most common amoung students ?\n",
    "- What is the effect of lunch type on test results?\n"
   ]
  },
  {
   "cell_type": "markdown",
   "id": "8584c755",
   "metadata": {},
   "source": [
    "#### UNIVARIATE ANALYSIS ( Which type of lunch is most common amoung students ? )"
   ]
  },
  {
   "cell_type": "code",
   "execution_count": null,
   "id": "a3a277e0",
   "metadata": {},
   "outputs": [],
   "source": [
    "plt.rcParams['figure.figsize'] = (15, 9)\n",
    "plt.style.use('seaborn-talk')\n",
    "sns.countplot(df['lunch'], palette = 'PuBu')\n",
    "plt.title('Comparison of different types of lunch', fontweight = 30, fontsize = 20)\n",
    "plt.xlabel('types of lunch')\n",
    "plt.ylabel('count')\n",
    "plt.show()"
   ]
  },
  {
   "cell_type": "markdown",
   "id": "332b0c50",
   "metadata": {},
   "source": [
    "#### Insights \n",
    "- Students being served Standard lunch was more than free lunch"
   ]
  },
  {
   "cell_type": "markdown",
   "id": "d75db26f",
   "metadata": {},
   "source": [
    "#### BIVARIATE ANALYSIS (  Is lunch type intake has any impact on student's performance ? )"
   ]
  },
  {
   "cell_type": "code",
   "execution_count": null,
   "id": "666babd5",
   "metadata": {},
   "outputs": [],
   "source": [
    "f,ax=plt.subplots(1,2,figsize=(20,8))\n",
    "sns.countplot(x=df['parental level of education'],data=df,palette = 'bright',hue='test preparation course',saturation=0.95,ax=ax[0])\n",
    "ax[0].set_title('Students vs test preparation course ',color='black',size=25)\n",
    "for container in ax[0].containers:\n",
    "    ax[0].bar_label(container,color='black',size=20)\n",
    "    \n",
    "sns.countplot(x=df['parental level of education'],data=df,palette = 'bright',hue='lunch',saturation=0.95,ax=ax[1])\n",
    "for container in ax[1].containers:\n",
    "    ax[1].bar_label(container,color='black',size=20)   "
   ]
  },
  {
   "cell_type": "markdown",
   "id": "0677b04c",
   "metadata": {},
   "source": [
    "#### Insights \n",
    "- Students who get Standard Lunch tend to perform better than students who got free/reduced lunch"
   ]
  },
  {
   "cell_type": "markdown",
   "id": "edd0ec29",
   "metadata": {},
   "source": [
    "#### 4.4.5 TEST PREPARATION COURSE COLUMN \n",
    "- Which type of lunch is most common amoung students ?\n",
    "- Is Test prepration course has any impact on student's performance ?"
   ]
  },
  {
   "cell_type": "markdown",
   "id": "cf8f65bd",
   "metadata": {},
   "source": [
    "#### BIVARIATE ANALYSIS ( Is Test prepration course has any impact on student's performance ? )"
   ]
  },
  {
   "cell_type": "code",
   "execution_count": null,
   "id": "1b08ed26",
   "metadata": {},
   "outputs": [],
   "source": [
    "plt.figure(figsize=(12,6))\n",
    "plt.subplot(2,2,1)\n",
    "sns.barplot (x=df['lunch'], y=df['math score'], hue=df['test preparation course'])\n",
    "plt.subplot(2,2,2)\n",
    "sns.barplot (x=df['lunch'], y=df['reading score'], hue=df['test preparation course'])\n",
    "plt.subplot(2,2,3)\n",
    "sns.barplot (x=df['lunch'], y=df['writing score'], hue=df['test preparation course'])"
   ]
  },
  {
   "cell_type": "markdown",
   "id": "5bab116e",
   "metadata": {},
   "source": [
    "#### Insights  \n",
    "- Students who have completed the Test Prepration Course have scores higher in all three categories than those who haven't taken the course"
   ]
  },
  {
   "cell_type": "markdown",
   "id": "4069d6e6",
   "metadata": {},
   "source": [
    "#### 4.4.6 CHECKING OUTLIERS"
   ]
  },
  {
   "cell_type": "code",
   "execution_count": null,
   "id": "62a813a5",
   "metadata": {},
   "outputs": [],
   "source": [
    "plt.subplots(1,4,figsize=(16,5))\n",
    "plt.subplot(141)\n",
    "sns.boxplot(df['math score'],color='skyblue')\n",
    "plt.subplot(142)\n",
    "sns.boxplot(df['reading score'],color='hotpink')\n",
    "plt.subplot(143)\n",
    "sns.boxplot(df['writing score'],color='yellow')\n",
    "plt.subplot(144)\n",
    "sns.boxplot(df['average'],color='lightgreen')\n",
    "plt.show()"
   ]
  },
  {
   "cell_type": "markdown",
   "id": "957e8bef",
   "metadata": {},
   "source": [
    "#### 4.4.7 MUTIVARIATE ANALYSIS USING PAIRPLOT"
   ]
  },
  {
   "cell_type": "code",
   "execution_count": null,
   "id": "f09f746c",
   "metadata": {},
   "outputs": [],
   "source": [
    "sns.pairplot(df,hue = 'gender')\n",
    "plt.show()"
   ]
  },
  {
   "cell_type": "markdown",
   "id": "f7991322",
   "metadata": {},
   "source": [
    "#### Insights\n",
    "- From the above plot it is clear that all the scores increase linearly with each other."
   ]
  },
  {
   "cell_type": "markdown",
   "id": "b7e20716",
   "metadata": {},
   "source": [
    "### 5. Conclusions\n",
    "- Student's Performance is related with lunch, race, parental level education\n",
    "- Females lead in pass percentage and also are top-scorers\n",
    "- Student's Performance is not much related with test preparation course\n",
    "- Finishing preparation course is benefitial."
   ]
  }
 ],
 "metadata": {
  "kernelspec": {
   "display_name": "Python 3",
   "language": "python",
   "name": "python3"
  },
  "language_info": {
   "codemirror_mode": {
    "name": "ipython",
    "version": 3
   },
   "file_extension": ".py",
   "mimetype": "text/x-python",
   "name": "python",
   "nbconvert_exporter": "python",
   "pygments_lexer": "ipython3",
   "version": "3.8.20"
  }
 },
 "nbformat": 4,
 "nbformat_minor": 5
}
